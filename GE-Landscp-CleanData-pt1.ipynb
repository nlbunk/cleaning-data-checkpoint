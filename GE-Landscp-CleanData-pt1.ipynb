{
 "cells": [
  {
   "cell_type": "markdown",
   "metadata": {
    "azdata_cell_guid": "26037d32-2047-4157-81ef-595916bd66a0"
   },
   "source": [
    "# Checkpoint Three: Cleaning Data\n",
    "\n",
    "Now you are ready to clean your data. Before starting coding, provide the link to your dataset below.\n",
    "\n",
    "My dataset:\n",
    "\n",
    "Import the necessary libraries and create your dataframe(s)."
   ]
  },
  {
   "cell_type": "code",
   "execution_count": 134,
   "metadata": {
    "azdata_cell_guid": "e8adef8e-d0f2-4640-a179-5997f11e82ca"
   },
   "outputs": [],
   "source": [
    "import sqlite3 as sl\n",
    "import pandas as pd\n"
   ]
  },
  {
   "cell_type": "code",
   "execution_count": 135,
   "metadata": {},
   "outputs": [],
   "source": [
    "sales_df = pd.read_excel('SalesJournal 2005-2021.xlsx',sheet_name=0)\n",
    "cust_df = pd.read_excel('SalesJournal 2005-2021.xlsx',sheet_name=1)"
   ]
  },
  {
   "cell_type": "markdown",
   "metadata": {
    "azdata_cell_guid": "e172475a-c4ee-414a-8367-9965355dbba6"
   },
   "source": [
    "## Missing Data\n",
    "\n",
    "Test your dataset for missing data and handle it as needed. Make notes in the form of code comments as to your thought process."
   ]
  },
  {
   "cell_type": "code",
   "execution_count": 136,
   "metadata": {},
   "outputs": [
    {
     "name": "stdout",
     "output_type": "stream",
     "text": [
      "Customer ID       0\n",
      "Cust Since        0\n",
      "City             21\n",
      "State            21\n",
      "Zip              31\n",
      "Cust Type      3194\n",
      "Active?           0\n",
      "Sales Rep      2391\n",
      "Sales Acct        0\n",
      "dtype: int64\n"
     ]
    }
   ],
   "source": [
    "print(cust_df.isnull().sum()) # How many nulls in my cust columns"
   ]
  },
  {
   "cell_type": "code",
   "execution_count": 137,
   "metadata": {},
   "outputs": [
    {
     "data": {
      "text/html": [
       "<div>\n",
       "<style scoped>\n",
       "    .dataframe tbody tr th:only-of-type {\n",
       "        vertical-align: middle;\n",
       "    }\n",
       "\n",
       "    .dataframe tbody tr th {\n",
       "        vertical-align: top;\n",
       "    }\n",
       "\n",
       "    .dataframe thead th {\n",
       "        text-align: right;\n",
       "    }\n",
       "</style>\n",
       "<table border=\"1\" class=\"dataframe\">\n",
       "  <thead>\n",
       "    <tr style=\"text-align: right;\">\n",
       "      <th></th>\n",
       "      <th>Customer ID</th>\n",
       "      <th>Cust Since</th>\n",
       "      <th>City</th>\n",
       "      <th>State</th>\n",
       "      <th>Zip</th>\n",
       "      <th>Cust Type</th>\n",
       "      <th>Active?</th>\n",
       "      <th>Sales Rep</th>\n",
       "      <th>Sales Acct</th>\n",
       "    </tr>\n",
       "  </thead>\n",
       "  <tbody>\n",
       "    <tr>\n",
       "      <th>0</th>\n",
       "      <td>103</td>\n",
       "      <td>2008-07-21</td>\n",
       "      <td>Overland Park</td>\n",
       "      <td>KS</td>\n",
       "      <td>66210</td>\n",
       "      <td>COMM</td>\n",
       "      <td>Active</td>\n",
       "      <td>GCP3</td>\n",
       "      <td>30900</td>\n",
       "    </tr>\n",
       "    <tr>\n",
       "      <th>1</th>\n",
       "      <td>10975</td>\n",
       "      <td>2008-07-21</td>\n",
       "      <td>Overland Park</td>\n",
       "      <td>Ks</td>\n",
       "      <td>66210</td>\n",
       "      <td>NaN</td>\n",
       "      <td>Active</td>\n",
       "      <td>GCP3</td>\n",
       "      <td>30900</td>\n",
       "    </tr>\n",
       "    <tr>\n",
       "      <th>2</th>\n",
       "      <td>1509WALN</td>\n",
       "      <td>2018-12-12</td>\n",
       "      <td>KANSAS CITY</td>\n",
       "      <td>MO</td>\n",
       "      <td>64106</td>\n",
       "      <td>SNOW</td>\n",
       "      <td>Active</td>\n",
       "      <td>SNOW</td>\n",
       "      <td>30800</td>\n",
       "    </tr>\n",
       "    <tr>\n",
       "      <th>3</th>\n",
       "      <td>1617</td>\n",
       "      <td>2008-07-15</td>\n",
       "      <td>NaN</td>\n",
       "      <td>NaN</td>\n",
       "      <td>NaN</td>\n",
       "      <td>NaN</td>\n",
       "      <td>Inactive</td>\n",
       "      <td>NaN</td>\n",
       "      <td>30200</td>\n",
       "    </tr>\n",
       "    <tr>\n",
       "      <th>4</th>\n",
       "      <td>1906WYAN</td>\n",
       "      <td>2019-01-28</td>\n",
       "      <td>Kansas City</td>\n",
       "      <td>MO</td>\n",
       "      <td>64108</td>\n",
       "      <td>SNOW</td>\n",
       "      <td>Active</td>\n",
       "      <td>SNOW/GEORGE</td>\n",
       "      <td>30800</td>\n",
       "    </tr>\n",
       "  </tbody>\n",
       "</table>\n",
       "</div>"
      ],
      "text/plain": [
       "  Customer ID Cust Since           City State    Zip Cust Type   Active?  \\\n",
       "0         103 2008-07-21  Overland Park    KS  66210      COMM    Active   \n",
       "1       10975 2008-07-21  Overland Park    Ks  66210       NaN    Active   \n",
       "2    1509WALN 2018-12-12    KANSAS CITY    MO  64106      SNOW    Active   \n",
       "3        1617 2008-07-15            NaN   NaN    NaN       NaN  Inactive   \n",
       "4    1906WYAN 2019-01-28    Kansas City    MO  64108      SNOW    Active   \n",
       "\n",
       "     Sales Rep  Sales Acct  \n",
       "0         GCP3       30900  \n",
       "1         GCP3       30900  \n",
       "2         SNOW       30800  \n",
       "3          NaN       30200  \n",
       "4  SNOW/GEORGE       30800  "
      ]
     },
     "execution_count": 137,
     "metadata": {},
     "output_type": "execute_result"
    }
   ],
   "source": [
    "cust_df.head(5)\n"
   ]
  },
  {
   "cell_type": "code",
   "execution_count": 138,
   "metadata": {
    "azdata_cell_guid": "e1dc66ef-e471-4c27-92e7-ee878c106eba"
   },
   "outputs": [
    {
     "name": "stdout",
     "output_type": "stream",
     "text": [
      "Customer ID                0\n",
      "Account ID                 0\n",
      "Account Description        0\n",
      "Invoice/CM #               0\n",
      "Date                       0\n",
      "Debit Amnt             56646\n",
      "Credit Amnt             1591\n",
      "Last Inv Date              0\n",
      "Sales Rep ID             271\n",
      "Job ID                   696\n",
      "dtype: int64\n"
     ]
    }
   ],
   "source": [
    "print(sales_df.isnull().sum()) # How many nulls in my sales columns"
   ]
  },
  {
   "cell_type": "code",
   "execution_count": 139,
   "metadata": {},
   "outputs": [
    {
     "data": {
      "text/html": [
       "<div>\n",
       "<style scoped>\n",
       "    .dataframe tbody tr th:only-of-type {\n",
       "        vertical-align: middle;\n",
       "    }\n",
       "\n",
       "    .dataframe tbody tr th {\n",
       "        vertical-align: top;\n",
       "    }\n",
       "\n",
       "    .dataframe thead th {\n",
       "        text-align: right;\n",
       "    }\n",
       "</style>\n",
       "<table border=\"1\" class=\"dataframe\">\n",
       "  <thead>\n",
       "    <tr style=\"text-align: right;\">\n",
       "      <th></th>\n",
       "      <th>Customer ID</th>\n",
       "      <th>Account ID</th>\n",
       "      <th>Account Description</th>\n",
       "      <th>Invoice/CM #</th>\n",
       "      <th>Date</th>\n",
       "      <th>Debit Amnt</th>\n",
       "      <th>Credit Amnt</th>\n",
       "      <th>Last Inv Date</th>\n",
       "      <th>Sales Rep ID</th>\n",
       "      <th>Job ID</th>\n",
       "    </tr>\n",
       "  </thead>\n",
       "  <tbody>\n",
       "    <tr>\n",
       "      <th>0</th>\n",
       "      <td>WATERO</td>\n",
       "      <td>30020</td>\n",
       "      <td>Sales - Turf Repair</td>\n",
       "      <td>37144</td>\n",
       "      <td>2020-04-01</td>\n",
       "      <td>NaN</td>\n",
       "      <td>2607.75</td>\n",
       "      <td>2021-12-29</td>\n",
       "      <td>JAMESV</td>\n",
       "      <td>20001-02JV,02-PLANTING,00-REVENUE</td>\n",
       "    </tr>\n",
       "    <tr>\n",
       "      <th>1</th>\n",
       "      <td>WATERO</td>\n",
       "      <td>30020</td>\n",
       "      <td>Sales - Turf Repair</td>\n",
       "      <td>37147</td>\n",
       "      <td>2020-04-01</td>\n",
       "      <td>NaN</td>\n",
       "      <td>3806.04</td>\n",
       "      <td>2021-12-29</td>\n",
       "      <td>JAMESV</td>\n",
       "      <td>20001-02JV,02-PLANTING,00-REVENUE</td>\n",
       "    </tr>\n",
       "    <tr>\n",
       "      <th>2</th>\n",
       "      <td>WATERO</td>\n",
       "      <td>30020</td>\n",
       "      <td>Sales - Turf Repair</td>\n",
       "      <td>37148</td>\n",
       "      <td>2020-04-02</td>\n",
       "      <td>NaN</td>\n",
       "      <td>2070.17</td>\n",
       "      <td>2021-12-29</td>\n",
       "      <td>JAMESV</td>\n",
       "      <td>20001-02JV,02-PLANTING,00-REVENUE</td>\n",
       "    </tr>\n",
       "    <tr>\n",
       "      <th>3</th>\n",
       "      <td>WATERO</td>\n",
       "      <td>30020</td>\n",
       "      <td>Sales - Turf Repair</td>\n",
       "      <td>37155</td>\n",
       "      <td>2020-04-03</td>\n",
       "      <td>NaN</td>\n",
       "      <td>3558.18</td>\n",
       "      <td>2021-12-29</td>\n",
       "      <td>JAMESV</td>\n",
       "      <td>20001-02JV,02-PLANTING,00-REVENUE</td>\n",
       "    </tr>\n",
       "    <tr>\n",
       "      <th>4</th>\n",
       "      <td>WATERO</td>\n",
       "      <td>30020</td>\n",
       "      <td>Sales - Turf Repair</td>\n",
       "      <td>37172</td>\n",
       "      <td>2020-04-10</td>\n",
       "      <td>NaN</td>\n",
       "      <td>2825.81</td>\n",
       "      <td>2021-12-29</td>\n",
       "      <td>JAMESV</td>\n",
       "      <td>20001-02JV,15-Turf Repair,00-REVENUE</td>\n",
       "    </tr>\n",
       "  </tbody>\n",
       "</table>\n",
       "</div>"
      ],
      "text/plain": [
       "  Customer ID  Account ID  Account Description Invoice/CM #       Date  \\\n",
       "0      WATERO       30020  Sales - Turf Repair        37144 2020-04-01   \n",
       "1      WATERO       30020  Sales - Turf Repair        37147 2020-04-01   \n",
       "2      WATERO       30020  Sales - Turf Repair        37148 2020-04-02   \n",
       "3      WATERO       30020  Sales - Turf Repair        37155 2020-04-03   \n",
       "4      WATERO       30020  Sales - Turf Repair        37172 2020-04-10   \n",
       "\n",
       "   Debit Amnt  Credit Amnt Last Inv Date Sales Rep ID  \\\n",
       "0         NaN      2607.75    2021-12-29       JAMESV   \n",
       "1         NaN      3806.04    2021-12-29       JAMESV   \n",
       "2         NaN      2070.17    2021-12-29       JAMESV   \n",
       "3         NaN      3558.18    2021-12-29       JAMESV   \n",
       "4         NaN      2825.81    2021-12-29       JAMESV   \n",
       "\n",
       "                                 Job ID  \n",
       "0     20001-02JV,02-PLANTING,00-REVENUE  \n",
       "1     20001-02JV,02-PLANTING,00-REVENUE  \n",
       "2     20001-02JV,02-PLANTING,00-REVENUE  \n",
       "3     20001-02JV,02-PLANTING,00-REVENUE  \n",
       "4  20001-02JV,15-Turf Repair,00-REVENUE  "
      ]
     },
     "execution_count": 139,
     "metadata": {},
     "output_type": "execute_result"
    }
   ],
   "source": [
    "sales_df.head(5)"
   ]
  },
  {
   "cell_type": "code",
   "execution_count": 140,
   "metadata": {},
   "outputs": [],
   "source": [
    "# Set null credit and debit amounts to zero to use in calculating Total Sales\n",
    "sales_df['Debit Amnt'] = sales_df['Debit Amnt'].fillna(0)\n",
    "sales_df['Credit Amnt'] = sales_df['Credit Amnt'].fillna(0)"
   ]
  },
  {
   "cell_type": "code",
   "execution_count": 141,
   "metadata": {},
   "outputs": [
    {
     "name": "stdout",
     "output_type": "stream",
     "text": [
      "Customer ID              0\n",
      "Account ID               0\n",
      "Account Description      0\n",
      "Invoice/CM #             0\n",
      "Date                     0\n",
      "Debit Amnt               0\n",
      "Credit Amnt              0\n",
      "Last Inv Date            0\n",
      "Sales Rep ID           271\n",
      "Job ID                 696\n",
      "dtype: int64\n"
     ]
    }
   ],
   "source": [
    "print(sales_df.isnull().sum()) # Check if nulls in debit and credit columns set to zero"
   ]
  },
  {
   "cell_type": "code",
   "execution_count": 142,
   "metadata": {},
   "outputs": [
    {
     "data": {
      "text/html": [
       "<div>\n",
       "<style scoped>\n",
       "    .dataframe tbody tr th:only-of-type {\n",
       "        vertical-align: middle;\n",
       "    }\n",
       "\n",
       "    .dataframe tbody tr th {\n",
       "        vertical-align: top;\n",
       "    }\n",
       "\n",
       "    .dataframe thead th {\n",
       "        text-align: right;\n",
       "    }\n",
       "</style>\n",
       "<table border=\"1\" class=\"dataframe\">\n",
       "  <thead>\n",
       "    <tr style=\"text-align: right;\">\n",
       "      <th></th>\n",
       "      <th>Customer ID</th>\n",
       "      <th>Account ID</th>\n",
       "      <th>Account Description</th>\n",
       "      <th>Invoice/CM #</th>\n",
       "      <th>Date</th>\n",
       "      <th>Debit Amnt</th>\n",
       "      <th>Credit Amnt</th>\n",
       "      <th>Last Inv Date</th>\n",
       "      <th>Sales Rep ID</th>\n",
       "      <th>Job ID</th>\n",
       "    </tr>\n",
       "  </thead>\n",
       "  <tbody>\n",
       "    <tr>\n",
       "      <th>0</th>\n",
       "      <td>WATERO</td>\n",
       "      <td>30020</td>\n",
       "      <td>Sales - Turf Repair</td>\n",
       "      <td>37144</td>\n",
       "      <td>2020-04-01</td>\n",
       "      <td>0.0</td>\n",
       "      <td>2607.75</td>\n",
       "      <td>2021-12-29</td>\n",
       "      <td>JAMESV</td>\n",
       "      <td>20001-02JV,02-PLANTING,00-REVENUE</td>\n",
       "    </tr>\n",
       "    <tr>\n",
       "      <th>1</th>\n",
       "      <td>WATERO</td>\n",
       "      <td>30020</td>\n",
       "      <td>Sales - Turf Repair</td>\n",
       "      <td>37147</td>\n",
       "      <td>2020-04-01</td>\n",
       "      <td>0.0</td>\n",
       "      <td>3806.04</td>\n",
       "      <td>2021-12-29</td>\n",
       "      <td>JAMESV</td>\n",
       "      <td>20001-02JV,02-PLANTING,00-REVENUE</td>\n",
       "    </tr>\n",
       "    <tr>\n",
       "      <th>2</th>\n",
       "      <td>WATERO</td>\n",
       "      <td>30020</td>\n",
       "      <td>Sales - Turf Repair</td>\n",
       "      <td>37148</td>\n",
       "      <td>2020-04-02</td>\n",
       "      <td>0.0</td>\n",
       "      <td>2070.17</td>\n",
       "      <td>2021-12-29</td>\n",
       "      <td>JAMESV</td>\n",
       "      <td>20001-02JV,02-PLANTING,00-REVENUE</td>\n",
       "    </tr>\n",
       "    <tr>\n",
       "      <th>3</th>\n",
       "      <td>WATERO</td>\n",
       "      <td>30020</td>\n",
       "      <td>Sales - Turf Repair</td>\n",
       "      <td>37155</td>\n",
       "      <td>2020-04-03</td>\n",
       "      <td>0.0</td>\n",
       "      <td>3558.18</td>\n",
       "      <td>2021-12-29</td>\n",
       "      <td>JAMESV</td>\n",
       "      <td>20001-02JV,02-PLANTING,00-REVENUE</td>\n",
       "    </tr>\n",
       "    <tr>\n",
       "      <th>4</th>\n",
       "      <td>WATERO</td>\n",
       "      <td>30020</td>\n",
       "      <td>Sales - Turf Repair</td>\n",
       "      <td>37172</td>\n",
       "      <td>2020-04-10</td>\n",
       "      <td>0.0</td>\n",
       "      <td>2825.81</td>\n",
       "      <td>2021-12-29</td>\n",
       "      <td>JAMESV</td>\n",
       "      <td>20001-02JV,15-Turf Repair,00-REVENUE</td>\n",
       "    </tr>\n",
       "  </tbody>\n",
       "</table>\n",
       "</div>"
      ],
      "text/plain": [
       "  Customer ID  Account ID  Account Description Invoice/CM #       Date  \\\n",
       "0      WATERO       30020  Sales - Turf Repair        37144 2020-04-01   \n",
       "1      WATERO       30020  Sales - Turf Repair        37147 2020-04-01   \n",
       "2      WATERO       30020  Sales - Turf Repair        37148 2020-04-02   \n",
       "3      WATERO       30020  Sales - Turf Repair        37155 2020-04-03   \n",
       "4      WATERO       30020  Sales - Turf Repair        37172 2020-04-10   \n",
       "\n",
       "   Debit Amnt  Credit Amnt Last Inv Date Sales Rep ID  \\\n",
       "0         0.0      2607.75    2021-12-29       JAMESV   \n",
       "1         0.0      3806.04    2021-12-29       JAMESV   \n",
       "2         0.0      2070.17    2021-12-29       JAMESV   \n",
       "3         0.0      3558.18    2021-12-29       JAMESV   \n",
       "4         0.0      2825.81    2021-12-29       JAMESV   \n",
       "\n",
       "                                 Job ID  \n",
       "0     20001-02JV,02-PLANTING,00-REVENUE  \n",
       "1     20001-02JV,02-PLANTING,00-REVENUE  \n",
       "2     20001-02JV,02-PLANTING,00-REVENUE  \n",
       "3     20001-02JV,02-PLANTING,00-REVENUE  \n",
       "4  20001-02JV,15-Turf Repair,00-REVENUE  "
      ]
     },
     "execution_count": 142,
     "metadata": {},
     "output_type": "execute_result"
    }
   ],
   "source": [
    "sales_df.head(5)"
   ]
  },
  {
   "cell_type": "markdown",
   "metadata": {
    "azdata_cell_guid": "1233f543-e9a0-4f78-96f5-d7536554102e"
   },
   "source": [
    "## Irregular Data\n",
    "\n",
    "Detect outliers in your dataset and handle them as needed. Use code comments to make notes about your thought process."
   ]
  },
  {
   "cell_type": "code",
   "execution_count": 143,
   "metadata": {
    "azdata_cell_guid": "efed50ae-16f0-471d-98e2-632553a74c12"
   },
   "outputs": [
    {
     "name": "stdout",
     "output_type": "stream",
     "text": [
      "<class 'pandas.core.frame.DataFrame'>\n",
      "RangeIndex: 4039 entries, 0 to 4038\n",
      "Data columns (total 9 columns):\n",
      " #   Column       Non-Null Count  Dtype         \n",
      "---  ------       --------------  -----         \n",
      " 0   Customer ID  4039 non-null   object        \n",
      " 1   Cust Since   4039 non-null   datetime64[ns]\n",
      " 2   City         4018 non-null   object        \n",
      " 3   State        4018 non-null   object        \n",
      " 4   Zip          4008 non-null   object        \n",
      " 5   Cust Type    845 non-null    object        \n",
      " 6   Active?      4039 non-null   object        \n",
      " 7   Sales Rep    1648 non-null   object        \n",
      " 8   Sales Acct   4039 non-null   int64         \n",
      "dtypes: datetime64[ns](1), int64(1), object(7)\n",
      "memory usage: 284.1+ KB\n"
     ]
    }
   ],
   "source": [
    "cust_df.info()"
   ]
  },
  {
   "cell_type": "code",
   "execution_count": 144,
   "metadata": {},
   "outputs": [
    {
     "name": "stdout",
     "output_type": "stream",
     "text": [
      "<class 'pandas.core.frame.DataFrame'>\n",
      "RangeIndex: 58236 entries, 0 to 58235\n",
      "Data columns (total 10 columns):\n",
      " #   Column               Non-Null Count  Dtype         \n",
      "---  ------               --------------  -----         \n",
      " 0   Customer ID          58236 non-null  object        \n",
      " 1   Account ID           58236 non-null  int64         \n",
      " 2   Account Description  58236 non-null  object        \n",
      " 3   Invoice/CM #         58236 non-null  object        \n",
      " 4   Date                 58236 non-null  datetime64[ns]\n",
      " 5   Debit Amnt           58236 non-null  float64       \n",
      " 6   Credit Amnt          58236 non-null  float64       \n",
      " 7   Last Inv Date        58236 non-null  datetime64[ns]\n",
      " 8   Sales Rep ID         57965 non-null  object        \n",
      " 9   Job ID               57540 non-null  object        \n",
      "dtypes: datetime64[ns](2), float64(2), int64(1), object(5)\n",
      "memory usage: 4.4+ MB\n"
     ]
    }
   ],
   "source": [
    "sales_df.info()"
   ]
  },
  {
   "cell_type": "code",
   "execution_count": 145,
   "metadata": {},
   "outputs": [
    {
     "data": {
      "text/html": [
       "<div>\n",
       "<style scoped>\n",
       "    .dataframe tbody tr th:only-of-type {\n",
       "        vertical-align: middle;\n",
       "    }\n",
       "\n",
       "    .dataframe tbody tr th {\n",
       "        vertical-align: top;\n",
       "    }\n",
       "\n",
       "    .dataframe thead th {\n",
       "        text-align: right;\n",
       "    }\n",
       "</style>\n",
       "<table border=\"1\" class=\"dataframe\">\n",
       "  <thead>\n",
       "    <tr style=\"text-align: right;\">\n",
       "      <th></th>\n",
       "      <th>Account ID</th>\n",
       "      <th>Debit Amnt</th>\n",
       "      <th>Credit Amnt</th>\n",
       "    </tr>\n",
       "  </thead>\n",
       "  <tbody>\n",
       "    <tr>\n",
       "      <th>count</th>\n",
       "      <td>58236.000000</td>\n",
       "      <td>58236.000000</td>\n",
       "      <td>58236.000000</td>\n",
       "    </tr>\n",
       "    <tr>\n",
       "      <th>mean</th>\n",
       "      <td>30555.453070</td>\n",
       "      <td>28.169344</td>\n",
       "      <td>871.023895</td>\n",
       "    </tr>\n",
       "    <tr>\n",
       "      <th>std</th>\n",
       "      <td>290.214553</td>\n",
       "      <td>602.535517</td>\n",
       "      <td>3032.098339</td>\n",
       "    </tr>\n",
       "    <tr>\n",
       "      <th>min</th>\n",
       "      <td>30020.000000</td>\n",
       "      <td>0.000000</td>\n",
       "      <td>0.000000</td>\n",
       "    </tr>\n",
       "    <tr>\n",
       "      <th>25%</th>\n",
       "      <td>30200.000000</td>\n",
       "      <td>0.000000</td>\n",
       "      <td>80.000000</td>\n",
       "    </tr>\n",
       "    <tr>\n",
       "      <th>50%</th>\n",
       "      <td>30800.000000</td>\n",
       "      <td>0.000000</td>\n",
       "      <td>200.000000</td>\n",
       "    </tr>\n",
       "    <tr>\n",
       "      <th>75%</th>\n",
       "      <td>30810.000000</td>\n",
       "      <td>0.000000</td>\n",
       "      <td>578.125000</td>\n",
       "    </tr>\n",
       "    <tr>\n",
       "      <th>max</th>\n",
       "      <td>30900.000000</td>\n",
       "      <td>61515.000000</td>\n",
       "      <td>213110.000000</td>\n",
       "    </tr>\n",
       "  </tbody>\n",
       "</table>\n",
       "</div>"
      ],
      "text/plain": [
       "         Account ID    Debit Amnt    Credit Amnt\n",
       "count  58236.000000  58236.000000   58236.000000\n",
       "mean   30555.453070     28.169344     871.023895\n",
       "std      290.214553    602.535517    3032.098339\n",
       "min    30020.000000      0.000000       0.000000\n",
       "25%    30200.000000      0.000000      80.000000\n",
       "50%    30800.000000      0.000000     200.000000\n",
       "75%    30810.000000      0.000000     578.125000\n",
       "max    30900.000000  61515.000000  213110.000000"
      ]
     },
     "execution_count": 145,
     "metadata": {},
     "output_type": "execute_result"
    }
   ],
   "source": [
    "sales_df.describe()"
   ]
  },
  {
   "cell_type": "code",
   "execution_count": 146,
   "metadata": {},
   "outputs": [
    {
     "data": {
      "text/plain": [
       "<AxesSubplot:xlabel='Credit Amnt'>"
      ]
     },
     "execution_count": 146,
     "metadata": {},
     "output_type": "execute_result"
    },
    {
     "data": {
      "image/png": "[encoded data removed]",
      "text/plain": [
       "<Figure size 432x288 with 1 Axes>"
      ]
     },
     "metadata": {
      "needs_background": "light"
     },
     "output_type": "display_data"
    }
   ],
   "source": [
    "import seaborn as sns\n",
    "sns.boxplot(x=sales_df['Credit Amnt'])"
   ]
  },
  {
   "cell_type": "code",
   "execution_count": 147,
   "metadata": {},
   "outputs": [
    {
     "data": {
      "text/html": [
       "<div>\n",
       "<style scoped>\n",
       "    .dataframe tbody tr th:only-of-type {\n",
       "        vertical-align: middle;\n",
       "    }\n",
       "\n",
       "    .dataframe tbody tr th {\n",
       "        vertical-align: top;\n",
       "    }\n",
       "\n",
       "    .dataframe thead th {\n",
       "        text-align: right;\n",
       "    }\n",
       "</style>\n",
       "<table border=\"1\" class=\"dataframe\">\n",
       "  <thead>\n",
       "    <tr style=\"text-align: right;\">\n",
       "      <th></th>\n",
       "      <th>Customer ID</th>\n",
       "      <th>Account ID</th>\n",
       "      <th>Account Description</th>\n",
       "      <th>Invoice/CM #</th>\n",
       "      <th>Date</th>\n",
       "      <th>Debit Amnt</th>\n",
       "      <th>Credit Amnt</th>\n",
       "      <th>Last Inv Date</th>\n",
       "      <th>Sales Rep ID</th>\n",
       "      <th>Job ID</th>\n",
       "    </tr>\n",
       "  </thead>\n",
       "  <tbody>\n",
       "    <tr>\n",
       "      <th>17136</th>\n",
       "      <td>MCLA</td>\n",
       "      <td>30200</td>\n",
       "      <td>Sales - Landscaping</td>\n",
       "      <td>37938</td>\n",
       "      <td>2020-12-07</td>\n",
       "      <td>0.0</td>\n",
       "      <td>213110.0</td>\n",
       "      <td>2021-11-12</td>\n",
       "      <td>GABE</td>\n",
       "      <td>20117-02GCC,02-PLANTING,00-REVENUE</td>\n",
       "    </tr>\n",
       "  </tbody>\n",
       "</table>\n",
       "</div>"
      ],
      "text/plain": [
       "      Customer ID  Account ID  Account Description Invoice/CM #       Date  \\\n",
       "17136        MCLA       30200  Sales - Landscaping        37938 2020-12-07   \n",
       "\n",
       "       Debit Amnt  Credit Amnt Last Inv Date Sales Rep ID  \\\n",
       "17136         0.0     213110.0    2021-11-12         GABE   \n",
       "\n",
       "                                   Job ID  \n",
       "17136  20117-02GCC,02-PLANTING,00-REVENUE  "
      ]
     },
     "execution_count": 147,
     "metadata": {},
     "output_type": "execute_result"
    }
   ],
   "source": [
    "# Checking to see the outlier and after checking with the salesman this is a correct invoice.  \n",
    "# Just much larger than typical sale\n",
    "\n",
    "sales_df.loc[sales_df['Credit Amnt'] > 150000]"
   ]
  },
  {
   "cell_type": "code",
   "execution_count": 148,
   "metadata": {},
   "outputs": [
    {
     "data": {
      "text/plain": [
       "<AxesSubplot:xlabel='Debit Amnt'>"
      ]
     },
     "execution_count": 148,
     "metadata": {},
     "output_type": "execute_result"
    },
    {
     "data": {
      "image/png": "[encoded data removed]",
      "text/plain": [
       "<Figure size 432x288 with 1 Axes>"
      ]
     },
     "metadata": {
      "needs_background": "light"
     },
     "output_type": "display_data"
    }
   ],
   "source": [
    "sns.boxplot(x=sales_df['Debit Amnt'])"
   ]
  },
  {
   "cell_type": "code",
   "execution_count": 149,
   "metadata": {},
   "outputs": [
    {
     "name": "stdout",
     "output_type": "stream",
     "text": [
      "      Customer ID  Account ID  Account Description Invoice/CM #       Date  \\\n",
      "9265       WATERO       30200  Sales - Landscaping      24363CR 2012-04-02   \n",
      "12433        GAHA       30200  Sales - Landscaping        29304 2015-06-23   \n",
      "12641       CATEN       30200  Sales - Landscaping        29526 2015-09-11   \n",
      "13853     MARTIND       30200  Sales - Landscaping       31689V 2017-04-20   \n",
      "16463       PECKH       30200  Sales - Landscaping      36094CM 2020-02-25   \n",
      "\n",
      "       Debit Amnt  Credit Amnt Last Inv Date Sales Rep ID  \\\n",
      "9265     25263.42          0.0    2021-12-29          TOM   \n",
      "12433    29500.00          0.0    2015-06-23         GABE   \n",
      "12641    51928.00          0.0    2015-12-16         COLE   \n",
      "13853    32816.40          0.0    2017-12-01       MIKEHU   \n",
      "16463    61515.00          0.0    2020-02-25         GABE   \n",
      "\n",
      "                                   Job ID  \n",
      "9265    12003-02TB,02-PLANTING,00-REVENUE  \n",
      "12433  15008-02GCC,02-PLANTING,00-REVENUE  \n",
      "12641   15210-02CW,02-PLANTING,00-REVENUE  \n",
      "13853   17001-02MH,02-PLANTING,00-REVENUE  \n",
      "16463  19169-02GCC,02-PLANTING,00-REVENUE  \n"
     ]
    }
   ],
   "source": [
    "# Look at the rows with large debit amount & invoice greater than 2010\n",
    "# I will be looking at sales revenue from 2010 - 2021 but need the 2005-2009 data to determine if prev customer\n",
    "\n",
    "df_filtered = sales_df.loc[(sales_df['Debit Amnt'] > 20000) & (sales_df['Date']>= '2010-01-01')]\n",
    "\n",
    "print(df_filtered)"
   ]
  },
  {
   "cell_type": "code",
   "execution_count": 150,
   "metadata": {},
   "outputs": [
    {
     "data": {
      "text/plain": [
       "(58236, 10)"
      ]
     },
     "execution_count": 150,
     "metadata": {},
     "output_type": "execute_result"
    }
   ],
   "source": [
    "sales_df.shape  # Look at shape before dropping rows"
   ]
  },
  {
   "cell_type": "code",
   "execution_count": 151,
   "metadata": {},
   "outputs": [],
   "source": [
    "# After discussion with business mgr and looking more closely at the data, \n",
    "# it was decided the large debit columns needed to be dropped to better represent sales revenue\n",
    "\n",
    "sales_df = sales_df.drop(sales_df.index[sales_df['Debit Amnt'] > 26000])"
   ]
  },
  {
   "cell_type": "code",
   "execution_count": 152,
   "metadata": {},
   "outputs": [
    {
     "data": {
      "text/plain": [
       "(58229, 10)"
      ]
     },
     "execution_count": 152,
     "metadata": {},
     "output_type": "execute_result"
    }
   ],
   "source": [
    "sales_df.shape # Make sure the rows were dropped"
   ]
  },
  {
   "cell_type": "markdown",
   "metadata": {
    "azdata_cell_guid": "6f5b8ee0-bab3-44bc-958a-67d1e4c0407f"
   },
   "source": [
    "## Unnecessary Data\n",
    "\n",
    "Look for the different types of unnecessary data in your dataset and address it as needed. Make sure to use code comments to illustrate your thought process."
   ]
  },
  {
   "cell_type": "code",
   "execution_count": 153,
   "metadata": {
    "azdata_cell_guid": "e788a239-2fbf-41de-9bd3-19e52e3b187c"
   },
   "outputs": [
    {
     "data": {
      "text/plain": [
       "Index(['Customer ID', 'Cust Since', 'City', 'State', 'Zip', 'Cust Type',\n",
       "       'Active?', 'Sales Rep', 'Sales Acct'],\n",
       "      dtype='object')"
      ]
     },
     "execution_count": 153,
     "metadata": {},
     "output_type": "execute_result"
    }
   ],
   "source": [
    "cust_df.columns"
   ]
  },
  {
   "cell_type": "code",
   "execution_count": 154,
   "metadata": {},
   "outputs": [
    {
     "data": {
      "text/plain": [
       "Index(['Customer ID', 'Cust Since', 'City', 'State', 'Zip'], dtype='object')"
      ]
     },
     "execution_count": 154,
     "metadata": {},
     "output_type": "execute_result"
    }
   ],
   "source": [
    "# drop columns from customer file not needed\n",
    "cust_df = cust_df.drop(['Active?','Sales Rep','Sales Acct','Cust Type'], axis=1)\n",
    "cust_df.columns"
   ]
  },
  {
   "cell_type": "code",
   "execution_count": 155,
   "metadata": {},
   "outputs": [
    {
     "data": {
      "text/plain": [
       "Index(['Customer ID', 'Account ID', 'Account Description', 'Invoice/CM #',\n",
       "       'Date', 'Debit Amnt', 'Credit Amnt', 'Last Inv Date', 'Sales Rep ID',\n",
       "       'Job ID'],\n",
       "      dtype='object')"
      ]
     },
     "execution_count": 155,
     "metadata": {},
     "output_type": "execute_result"
    }
   ],
   "source": [
    "sales_df.columns"
   ]
  },
  {
   "cell_type": "markdown",
   "metadata": {
    "azdata_cell_guid": "53e0cf94-c68a-4fa0-9849-9505a66bcce6"
   },
   "source": [
    "## Inconsistent Data\n",
    "\n",
    "Check for inconsistent data and address any that arises. As always, use code comments to illustrate your thought process."
   ]
  },
  {
   "cell_type": "code",
   "execution_count": 156,
   "metadata": {
    "azdata_cell_guid": "e9de6624-812a-43f8-8e20-93b4a49b091f"
   },
   "outputs": [
    {
     "name": "stdout",
     "output_type": "stream",
     "text": [
      "(0, 5)\n"
     ]
    }
   ],
   "source": [
    "# Any duplicate rows in cust?\n",
    "duplicate_rows_df = cust_df[cust_df.duplicated()]\n",
    "print(duplicate_rows_df.shape)"
   ]
  },
  {
   "cell_type": "code",
   "execution_count": 157,
   "metadata": {},
   "outputs": [
    {
     "name": "stdout",
     "output_type": "stream",
     "text": [
      "(665, 10)\n"
     ]
    }
   ],
   "source": [
    "# Any duplicate rows in sales?\n",
    "duplicate_rows_df = sales_df[sales_df.duplicated()]\n",
    "print(duplicate_rows_df.shape)"
   ]
  },
  {
   "cell_type": "code",
   "execution_count": 158,
   "metadata": {},
   "outputs": [
    {
     "data": {
      "text/html": [
       "<div>\n",
       "<style scoped>\n",
       "    .dataframe tbody tr th:only-of-type {\n",
       "        vertical-align: middle;\n",
       "    }\n",
       "\n",
       "    .dataframe tbody tr th {\n",
       "        vertical-align: top;\n",
       "    }\n",
       "\n",
       "    .dataframe thead th {\n",
       "        text-align: right;\n",
       "    }\n",
       "</style>\n",
       "<table border=\"1\" class=\"dataframe\">\n",
       "  <thead>\n",
       "    <tr style=\"text-align: right;\">\n",
       "      <th></th>\n",
       "      <th>Customer ID</th>\n",
       "      <th>Account ID</th>\n",
       "      <th>Account Description</th>\n",
       "      <th>Invoice/CM #</th>\n",
       "      <th>Date</th>\n",
       "      <th>Debit Amnt</th>\n",
       "      <th>Credit Amnt</th>\n",
       "      <th>Last Inv Date</th>\n",
       "      <th>Sales Rep ID</th>\n",
       "      <th>Job ID</th>\n",
       "    </tr>\n",
       "  </thead>\n",
       "  <tbody>\n",
       "    <tr>\n",
       "      <th>374</th>\n",
       "      <td>WALJ</td>\n",
       "      <td>30100</td>\n",
       "      <td>Sales - Lighting</td>\n",
       "      <td>8121</td>\n",
       "      <td>2006-03-01</td>\n",
       "      <td>0.0</td>\n",
       "      <td>65.0</td>\n",
       "      <td>2008-03-10</td>\n",
       "      <td>SVC</td>\n",
       "      <td>06997-01S,20-SERVICE,00-REVENUE</td>\n",
       "    </tr>\n",
       "    <tr>\n",
       "      <th>784</th>\n",
       "      <td>ANAN</td>\n",
       "      <td>30100</td>\n",
       "      <td>Sales - Lighting</td>\n",
       "      <td>17572</td>\n",
       "      <td>2009-08-31</td>\n",
       "      <td>0.0</td>\n",
       "      <td>75.0</td>\n",
       "      <td>2010-11-12</td>\n",
       "      <td>SVC</td>\n",
       "      <td>09997-01S,20-SERVICE,00-REVENUE</td>\n",
       "    </tr>\n",
       "    <tr>\n",
       "      <th>849</th>\n",
       "      <td>NEWB</td>\n",
       "      <td>30100</td>\n",
       "      <td>Sales - Lighting</td>\n",
       "      <td>21230</td>\n",
       "      <td>2010-11-23</td>\n",
       "      <td>0.0</td>\n",
       "      <td>15.0</td>\n",
       "      <td>2021-11-30</td>\n",
       "      <td>LARRY</td>\n",
       "      <td>10022-01LM,01-LIGHTING,00-REVENUE</td>\n",
       "    </tr>\n",
       "    <tr>\n",
       "      <th>968</th>\n",
       "      <td>OTTO</td>\n",
       "      <td>30200</td>\n",
       "      <td>Sales - Landscaping</td>\n",
       "      <td>6525</td>\n",
       "      <td>2005-03-28</td>\n",
       "      <td>0.0</td>\n",
       "      <td>48.0</td>\n",
       "      <td>2005-03-28</td>\n",
       "      <td>ANDYW</td>\n",
       "      <td>05027-02AW,02-PLANTING,00-REVENUE</td>\n",
       "    </tr>\n",
       "    <tr>\n",
       "      <th>989</th>\n",
       "      <td>OLND</td>\n",
       "      <td>30200</td>\n",
       "      <td>Sales - Landscaping</td>\n",
       "      <td>6551</td>\n",
       "      <td>2005-03-31</td>\n",
       "      <td>0.0</td>\n",
       "      <td>144.0</td>\n",
       "      <td>2010-03-31</td>\n",
       "      <td>ANDYW</td>\n",
       "      <td>05030-02AW,02-PLANTING,00-REVENUE</td>\n",
       "    </tr>\n",
       "  </tbody>\n",
       "</table>\n",
       "</div>"
      ],
      "text/plain": [
       "    Customer ID  Account ID  Account Description Invoice/CM #       Date  \\\n",
       "374        WALJ       30100     Sales - Lighting         8121 2006-03-01   \n",
       "784        ANAN       30100     Sales - Lighting        17572 2009-08-31   \n",
       "849        NEWB       30100     Sales - Lighting        21230 2010-11-23   \n",
       "968        OTTO       30200  Sales - Landscaping         6525 2005-03-28   \n",
       "989        OLND       30200  Sales - Landscaping         6551 2005-03-31   \n",
       "\n",
       "     Debit Amnt  Credit Amnt Last Inv Date Sales Rep ID  \\\n",
       "374         0.0         65.0    2008-03-10          SVC   \n",
       "784         0.0         75.0    2010-11-12          SVC   \n",
       "849         0.0         15.0    2021-11-30        LARRY   \n",
       "968         0.0         48.0    2005-03-28        ANDYW   \n",
       "989         0.0        144.0    2010-03-31        ANDYW   \n",
       "\n",
       "                                Job ID  \n",
       "374    06997-01S,20-SERVICE,00-REVENUE  \n",
       "784    09997-01S,20-SERVICE,00-REVENUE  \n",
       "849  10022-01LM,01-LIGHTING,00-REVENUE  \n",
       "968  05027-02AW,02-PLANTING,00-REVENUE  \n",
       "989  05030-02AW,02-PLANTING,00-REVENUE  "
      ]
     },
     "execution_count": 158,
     "metadata": {},
     "output_type": "execute_result"
    }
   ],
   "source": [
    "duplicate_rows_df.head() # After looking at sample of duplicate rows, it is valid to have duplicates"
   ]
  },
  {
   "cell_type": "code",
   "execution_count": 159,
   "metadata": {},
   "outputs": [
    {
     "data": {
      "text/html": [
       "<div>\n",
       "<style scoped>\n",
       "    .dataframe tbody tr th:only-of-type {\n",
       "        vertical-align: middle;\n",
       "    }\n",
       "\n",
       "    .dataframe tbody tr th {\n",
       "        vertical-align: top;\n",
       "    }\n",
       "\n",
       "    .dataframe thead th {\n",
       "        text-align: right;\n",
       "    }\n",
       "</style>\n",
       "<table border=\"1\" class=\"dataframe\">\n",
       "  <thead>\n",
       "    <tr style=\"text-align: right;\">\n",
       "      <th></th>\n",
       "      <th>Customer ID</th>\n",
       "      <th>Cust Since</th>\n",
       "      <th>City</th>\n",
       "      <th>State</th>\n",
       "      <th>Zip</th>\n",
       "    </tr>\n",
       "  </thead>\n",
       "  <tbody>\n",
       "    <tr>\n",
       "      <th>0</th>\n",
       "      <td>103</td>\n",
       "      <td>2008-07-21</td>\n",
       "      <td>OVERLAND PARK</td>\n",
       "      <td>KS</td>\n",
       "      <td>66210</td>\n",
       "    </tr>\n",
       "    <tr>\n",
       "      <th>1</th>\n",
       "      <td>10975</td>\n",
       "      <td>2008-07-21</td>\n",
       "      <td>OVERLAND PARK</td>\n",
       "      <td>KS</td>\n",
       "      <td>66210</td>\n",
       "    </tr>\n",
       "    <tr>\n",
       "      <th>2</th>\n",
       "      <td>1509WALN</td>\n",
       "      <td>2018-12-12</td>\n",
       "      <td>KANSAS CITY</td>\n",
       "      <td>MO</td>\n",
       "      <td>64106</td>\n",
       "    </tr>\n",
       "    <tr>\n",
       "      <th>3</th>\n",
       "      <td>1617</td>\n",
       "      <td>2008-07-15</td>\n",
       "      <td>NaN</td>\n",
       "      <td>NaN</td>\n",
       "      <td>NaN</td>\n",
       "    </tr>\n",
       "    <tr>\n",
       "      <th>4</th>\n",
       "      <td>1906WYAN</td>\n",
       "      <td>2019-01-28</td>\n",
       "      <td>KANSAS CITY</td>\n",
       "      <td>MO</td>\n",
       "      <td>64108</td>\n",
       "    </tr>\n",
       "    <tr>\n",
       "      <th>...</th>\n",
       "      <td>...</td>\n",
       "      <td>...</td>\n",
       "      <td>...</td>\n",
       "      <td>...</td>\n",
       "      <td>...</td>\n",
       "    </tr>\n",
       "    <tr>\n",
       "      <th>4034</th>\n",
       "      <td>ZALM</td>\n",
       "      <td>2001-03-26</td>\n",
       "      <td>OVERLAND PARK</td>\n",
       "      <td>KS</td>\n",
       "      <td>66213</td>\n",
       "    </tr>\n",
       "    <tr>\n",
       "      <th>4035</th>\n",
       "      <td>ZAND</td>\n",
       "      <td>2005-10-05</td>\n",
       "      <td>LEAWOOD</td>\n",
       "      <td>KS</td>\n",
       "      <td>66206</td>\n",
       "    </tr>\n",
       "    <tr>\n",
       "      <th>4036</th>\n",
       "      <td>ZEY</td>\n",
       "      <td>2004-07-02</td>\n",
       "      <td>LEAWOOD</td>\n",
       "      <td>KS</td>\n",
       "      <td>66206</td>\n",
       "    </tr>\n",
       "    <tr>\n",
       "      <th>4037</th>\n",
       "      <td>ZOOK</td>\n",
       "      <td>2007-01-08</td>\n",
       "      <td>STILWELL</td>\n",
       "      <td>KS</td>\n",
       "      <td>66085</td>\n",
       "    </tr>\n",
       "    <tr>\n",
       "      <th>4038</th>\n",
       "      <td>ZUCK</td>\n",
       "      <td>2007-10-15</td>\n",
       "      <td>PRAIRIE VILLAGE</td>\n",
       "      <td>KS</td>\n",
       "      <td>66207</td>\n",
       "    </tr>\n",
       "  </tbody>\n",
       "</table>\n",
       "<p>4039 rows × 5 columns</p>\n",
       "</div>"
      ],
      "text/plain": [
       "     Customer ID Cust Since             City State    Zip\n",
       "0            103 2008-07-21    OVERLAND PARK    KS  66210\n",
       "1          10975 2008-07-21    OVERLAND PARK    KS  66210\n",
       "2       1509WALN 2018-12-12      KANSAS CITY    MO  64106\n",
       "3           1617 2008-07-15              NaN   NaN    NaN\n",
       "4       1906WYAN 2019-01-28      KANSAS CITY    MO  64108\n",
       "...          ...        ...              ...   ...    ...\n",
       "4034        ZALM 2001-03-26    OVERLAND PARK    KS  66213\n",
       "4035        ZAND 2005-10-05          LEAWOOD    KS  66206\n",
       "4036         ZEY 2004-07-02          LEAWOOD    KS  66206\n",
       "4037        ZOOK 2007-01-08         STILWELL    KS  66085\n",
       "4038        ZUCK 2007-10-15  PRAIRIE VILLAGE    KS  66207\n",
       "\n",
       "[4039 rows x 5 columns]"
      ]
     },
     "execution_count": 159,
     "metadata": {},
     "output_type": "execute_result"
    }
   ],
   "source": [
    "# Convert city and state to uppercase\n",
    "\n",
    "cust_df['City'] = cust_df['City'].str.upper()\n",
    "cust_df['State'] = cust_df['State'].str.upper()\n",
    "cust_df"
   ]
  },
  {
   "cell_type": "code",
   "execution_count": 160,
   "metadata": {},
   "outputs": [],
   "source": [
    "# Export Customer file to CSV files\n",
    "cust_df.to_csv('Customer.csv')"
   ]
  },
  {
   "cell_type": "code",
   "execution_count": 161,
   "metadata": {},
   "outputs": [],
   "source": [
    "# Export Sales file to CSV files\n",
    "sales_df.to_csv('Sales.csv')"
   ]
  },
  {
   "cell_type": "markdown",
   "metadata": {
    "azdata_cell_guid": "dedc0bfe-17d0-40b2-914f-2ddb54f9ce0d"
   },
   "source": [
    "## Summarize Your Results\n",
    "\n",
    "Make note of your answers to the following questions.\n",
    "\n",
    "1. Did you find all four types of dirty data in your dataset?\n",
    "\n",
    "   I had to change some nulls into zeroes, delete some outliers in the sales dataframe, and delete columns I didn't need.\n",
    "   \n",
    "2. Did the process of cleaning your data give you new insights into your dataset?\n",
    "\n",
    "    Yes.  I had a better understanding of how the invoices were entered \n",
    "    \n",
    "3. Is there anything you would like to make note of when it comes to manipulating the data and making visualizations?\n",
    "\n",
    "    I need to aggregate the credit and debit for an invoice number, subtract the debits from the credits to create a single row with Sales_Total.\n",
    "    I also need to compare the invoice date with last invoice date to determine if this sale is a repeat column and create a column 'Repeat Customer' with 'Y' or 'N' value"
   ]
  }
 ],
 "metadata": {
  "kernelspec": {
   "display_name": "Python 3",
   "language": "python",
   "name": "python3"
  },
  "language_info": {
   "codemirror_mode": {
    "name": "ipython",
    "version": 3
   },
   "file_extension": ".py",
   "mimetype": "text/x-python",
   "name": "python",
   "nbconvert_exporter": "python",
   "pygments_lexer": "ipython3",
   "version": "3.8.8"
  }
 },
 "nbformat": 4,
 "nbformat_minor": 2
}
